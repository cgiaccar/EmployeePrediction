{
  "nbformat": 4,
  "nbformat_minor": 0,
  "metadata": {
    "colab": {
      "provenance": [],
      "toc_visible": true
    },
    "kernelspec": {
      "name": "python3",
      "display_name": "Python 3"
    },
    "language_info": {
      "name": "python"
    }
  },
  "cells": [
    {
      "cell_type": "markdown",
      "source": [
        "#Previsione retention impiegati"
      ],
      "metadata": {
        "id": "zemXpMCW8I9D"
      }
    },
    {
      "cell_type": "markdown",
      "source": [
        "#Estrazione informazioni dal dataset"
      ],
      "metadata": {
        "id": "bSwDFoOz8nlr"
      }
    },
    {
      "cell_type": "markdown",
      "source": [
        "Elenco delle features\n",
        "\n",
        "1.   Education : The highest level of formal education obtained by the employee\n",
        "2.   JoiningYear : Year of joining the company\n",
        "3.   City : Job Location\n",
        "4.   PaymentTier : [1:3] -> 1 means better payment\n",
        "5.   Age : Age of the employee\n",
        "6.   Gender : Gender of the employee\n",
        "7.   EverBenched : Ever kept out of project for more than one month\n",
        "8.   ExperienceInCurrentDomain : Experience in current field\n",
        "\n",
        "Classificazione\n",
        "9.   LeaveOrNot : Whether the employee leaves the company in next 2 years"
      ],
      "metadata": {
        "id": "xMypiSzE9T-Y"
      }
    },
    {
      "cell_type": "code",
      "execution_count": 84,
      "metadata": {
        "colab": {
          "base_uri": "https://localhost:8080/",
          "height": 270
        },
        "id": "FrTA4g8K6iKT",
        "outputId": "78c7df2e-a005-49fa-8a9d-3764e9cfc059"
      },
      "outputs": [
        {
          "output_type": "execute_result",
          "data": {
            "text/plain": [
              "   Education  JoiningYear       City  PaymentTier  Age  Gender EverBenched  \\\n",
              "0  Bachelors         2017  Bangalore            3   34    Male          No   \n",
              "1  Bachelors         2013       Pune            1   28  Female          No   \n",
              "2  Bachelors         2014  New Delhi            3   38  Female          No   \n",
              "3    Masters         2016  Bangalore            3   27    Male          No   \n",
              "4    Masters         2017       Pune            3   24    Male         Yes   \n",
              "\n",
              "   ExperienceInCurrentDomain  LeaveOrNot  \n",
              "0                          0           0  \n",
              "1                          3           1  \n",
              "2                          2           0  \n",
              "3                          5           1  \n",
              "4                          2           1  "
            ],
            "text/html": [
              "\n",
              "  <div id=\"df-155e27ae-a001-44e8-a314-dd55febb233f\">\n",
              "    <div class=\"colab-df-container\">\n",
              "      <div>\n",
              "<style scoped>\n",
              "    .dataframe tbody tr th:only-of-type {\n",
              "        vertical-align: middle;\n",
              "    }\n",
              "\n",
              "    .dataframe tbody tr th {\n",
              "        vertical-align: top;\n",
              "    }\n",
              "\n",
              "    .dataframe thead th {\n",
              "        text-align: right;\n",
              "    }\n",
              "</style>\n",
              "<table border=\"1\" class=\"dataframe\">\n",
              "  <thead>\n",
              "    <tr style=\"text-align: right;\">\n",
              "      <th></th>\n",
              "      <th>Education</th>\n",
              "      <th>JoiningYear</th>\n",
              "      <th>City</th>\n",
              "      <th>PaymentTier</th>\n",
              "      <th>Age</th>\n",
              "      <th>Gender</th>\n",
              "      <th>EverBenched</th>\n",
              "      <th>ExperienceInCurrentDomain</th>\n",
              "      <th>LeaveOrNot</th>\n",
              "    </tr>\n",
              "  </thead>\n",
              "  <tbody>\n",
              "    <tr>\n",
              "      <th>0</th>\n",
              "      <td>Bachelors</td>\n",
              "      <td>2017</td>\n",
              "      <td>Bangalore</td>\n",
              "      <td>3</td>\n",
              "      <td>34</td>\n",
              "      <td>Male</td>\n",
              "      <td>No</td>\n",
              "      <td>0</td>\n",
              "      <td>0</td>\n",
              "    </tr>\n",
              "    <tr>\n",
              "      <th>1</th>\n",
              "      <td>Bachelors</td>\n",
              "      <td>2013</td>\n",
              "      <td>Pune</td>\n",
              "      <td>1</td>\n",
              "      <td>28</td>\n",
              "      <td>Female</td>\n",
              "      <td>No</td>\n",
              "      <td>3</td>\n",
              "      <td>1</td>\n",
              "    </tr>\n",
              "    <tr>\n",
              "      <th>2</th>\n",
              "      <td>Bachelors</td>\n",
              "      <td>2014</td>\n",
              "      <td>New Delhi</td>\n",
              "      <td>3</td>\n",
              "      <td>38</td>\n",
              "      <td>Female</td>\n",
              "      <td>No</td>\n",
              "      <td>2</td>\n",
              "      <td>0</td>\n",
              "    </tr>\n",
              "    <tr>\n",
              "      <th>3</th>\n",
              "      <td>Masters</td>\n",
              "      <td>2016</td>\n",
              "      <td>Bangalore</td>\n",
              "      <td>3</td>\n",
              "      <td>27</td>\n",
              "      <td>Male</td>\n",
              "      <td>No</td>\n",
              "      <td>5</td>\n",
              "      <td>1</td>\n",
              "    </tr>\n",
              "    <tr>\n",
              "      <th>4</th>\n",
              "      <td>Masters</td>\n",
              "      <td>2017</td>\n",
              "      <td>Pune</td>\n",
              "      <td>3</td>\n",
              "      <td>24</td>\n",
              "      <td>Male</td>\n",
              "      <td>Yes</td>\n",
              "      <td>2</td>\n",
              "      <td>1</td>\n",
              "    </tr>\n",
              "  </tbody>\n",
              "</table>\n",
              "</div>\n",
              "      <button class=\"colab-df-convert\" onclick=\"convertToInteractive('df-155e27ae-a001-44e8-a314-dd55febb233f')\"\n",
              "              title=\"Convert this dataframe to an interactive table.\"\n",
              "              style=\"display:none;\">\n",
              "        \n",
              "  <svg xmlns=\"http://www.w3.org/2000/svg\" height=\"24px\"viewBox=\"0 0 24 24\"\n",
              "       width=\"24px\">\n",
              "    <path d=\"M0 0h24v24H0V0z\" fill=\"none\"/>\n",
              "    <path d=\"M18.56 5.44l.94 2.06.94-2.06 2.06-.94-2.06-.94-.94-2.06-.94 2.06-2.06.94zm-11 1L8.5 8.5l.94-2.06 2.06-.94-2.06-.94L8.5 2.5l-.94 2.06-2.06.94zm10 10l.94 2.06.94-2.06 2.06-.94-2.06-.94-.94-2.06-.94 2.06-2.06.94z\"/><path d=\"M17.41 7.96l-1.37-1.37c-.4-.4-.92-.59-1.43-.59-.52 0-1.04.2-1.43.59L10.3 9.45l-7.72 7.72c-.78.78-.78 2.05 0 2.83L4 21.41c.39.39.9.59 1.41.59.51 0 1.02-.2 1.41-.59l7.78-7.78 2.81-2.81c.8-.78.8-2.07 0-2.86zM5.41 20L4 18.59l7.72-7.72 1.47 1.35L5.41 20z\"/>\n",
              "  </svg>\n",
              "      </button>\n",
              "      \n",
              "  <style>\n",
              "    .colab-df-container {\n",
              "      display:flex;\n",
              "      flex-wrap:wrap;\n",
              "      gap: 12px;\n",
              "    }\n",
              "\n",
              "    .colab-df-convert {\n",
              "      background-color: #E8F0FE;\n",
              "      border: none;\n",
              "      border-radius: 50%;\n",
              "      cursor: pointer;\n",
              "      display: none;\n",
              "      fill: #1967D2;\n",
              "      height: 32px;\n",
              "      padding: 0 0 0 0;\n",
              "      width: 32px;\n",
              "    }\n",
              "\n",
              "    .colab-df-convert:hover {\n",
              "      background-color: #E2EBFA;\n",
              "      box-shadow: 0px 1px 2px rgba(60, 64, 67, 0.3), 0px 1px 3px 1px rgba(60, 64, 67, 0.15);\n",
              "      fill: #174EA6;\n",
              "    }\n",
              "\n",
              "    [theme=dark] .colab-df-convert {\n",
              "      background-color: #3B4455;\n",
              "      fill: #D2E3FC;\n",
              "    }\n",
              "\n",
              "    [theme=dark] .colab-df-convert:hover {\n",
              "      background-color: #434B5C;\n",
              "      box-shadow: 0px 1px 3px 1px rgba(0, 0, 0, 0.15);\n",
              "      filter: drop-shadow(0px 1px 2px rgba(0, 0, 0, 0.3));\n",
              "      fill: #FFFFFF;\n",
              "    }\n",
              "  </style>\n",
              "\n",
              "      <script>\n",
              "        const buttonEl =\n",
              "          document.querySelector('#df-155e27ae-a001-44e8-a314-dd55febb233f button.colab-df-convert');\n",
              "        buttonEl.style.display =\n",
              "          google.colab.kernel.accessAllowed ? 'block' : 'none';\n",
              "\n",
              "        async function convertToInteractive(key) {\n",
              "          const element = document.querySelector('#df-155e27ae-a001-44e8-a314-dd55febb233f');\n",
              "          const dataTable =\n",
              "            await google.colab.kernel.invokeFunction('convertToInteractive',\n",
              "                                                     [key], {});\n",
              "          if (!dataTable) return;\n",
              "\n",
              "          const docLinkHtml = 'Like what you see? Visit the ' +\n",
              "            '<a target=\"_blank\" href=https://colab.research.google.com/notebooks/data_table.ipynb>data table notebook</a>'\n",
              "            + ' to learn more about interactive tables.';\n",
              "          element.innerHTML = '';\n",
              "          dataTable['output_type'] = 'display_data';\n",
              "          await google.colab.output.renderOutput(dataTable, element);\n",
              "          const docLink = document.createElement('div');\n",
              "          docLink.innerHTML = docLinkHtml;\n",
              "          element.appendChild(docLink);\n",
              "        }\n",
              "      </script>\n",
              "    </div>\n",
              "  </div>\n",
              "  "
            ]
          },
          "metadata": {},
          "execution_count": 84
        }
      ],
      "source": [
        "import numpy as np\n",
        "import pandas as pd\n",
        "import matplotlib.pyplot as plt\n",
        "import seaborn as sns\n",
        "df = pd.read_csv('/content/sample_data/Employee.csv')\n",
        "df_targets = pd.DataFrame(df, columns=['LeaveOrNot'])\n",
        "df.head()"
      ]
    },
    {
      "cell_type": "markdown",
      "source": [
        "Sintesi dei dati ed elenco valori delle classi target"
      ],
      "metadata": {
        "id": "7giVaxyN_v19"
      }
    },
    {
      "cell_type": "code",
      "source": [
        "print(df.describe().T)\n",
        "print('\\nValori unici delle classi target')\n",
        "print(df_targets['LeaveOrNot'].unique())"
      ],
      "metadata": {
        "colab": {
          "base_uri": "https://localhost:8080/"
        },
        "id": "OCiNscB2-xK1",
        "outputId": "397b0efc-8232-4e0e-9610-683f2b561434"
      },
      "execution_count": 85,
      "outputs": [
        {
          "output_type": "stream",
          "name": "stdout",
          "text": [
            "                            count         mean       std     min     25%  \\\n",
            "JoiningYear                4653.0  2015.062970  1.863377  2012.0  2013.0   \n",
            "PaymentTier                4653.0     2.698259  0.561435     1.0     3.0   \n",
            "Age                        4653.0    29.393295  4.826087    22.0    26.0   \n",
            "ExperienceInCurrentDomain  4653.0     2.905652  1.558240     0.0     2.0   \n",
            "LeaveOrNot                 4653.0     0.343864  0.475047     0.0     0.0   \n",
            "\n",
            "                              50%     75%     max  \n",
            "JoiningYear                2015.0  2017.0  2018.0  \n",
            "PaymentTier                   3.0     3.0     3.0  \n",
            "Age                          28.0    32.0    41.0  \n",
            "ExperienceInCurrentDomain     3.0     4.0     7.0  \n",
            "LeaveOrNot                    0.0     1.0     1.0  \n",
            "\n",
            "Valori unici delle classi target\n",
            "[0 1]\n"
          ]
        }
      ]
    },
    {
      "cell_type": "markdown",
      "source": [
        "## Fase di pre processing"
      ],
      "metadata": {
        "id": "QhfewLwwOWlz"
      }
    },
    {
      "cell_type": "markdown",
      "source": [
        "### Gestione valori null"
      ],
      "metadata": {
        "id": "ucobB8MeOh4k"
      }
    },
    {
      "cell_type": "markdown",
      "source": [
        "Il data set non ha valori null"
      ],
      "metadata": {
        "id": "60SLjRsJ_Ihy"
      }
    },
    {
      "cell_type": "code",
      "source": [
        "df.isnull().sum()"
      ],
      "metadata": {
        "colab": {
          "base_uri": "https://localhost:8080/"
        },
        "id": "QTun9qw9_GuB",
        "outputId": "72faa5f6-fc12-4a9e-92fc-9a7a10fa724f"
      },
      "execution_count": 6,
      "outputs": [
        {
          "output_type": "execute_result",
          "data": {
            "text/plain": [
              "Education                    0\n",
              "JoiningYear                  0\n",
              "City                         0\n",
              "PaymentTier                  0\n",
              "Age                          0\n",
              "Gender                       0\n",
              "EverBenched                  0\n",
              "ExperienceInCurrentDomain    0\n",
              "LeaveOrNot                   0\n",
              "dtype: int64"
            ]
          },
          "metadata": {},
          "execution_count": 6
        }
      ]
    },
    {
      "cell_type": "markdown",
      "source": [
        "> ### Trasformazione dati"
      ],
      "metadata": {
        "id": "4e8oOm74Nq1M"
      }
    },
    {
      "cell_type": "markdown",
      "source": [],
      "metadata": {
        "id": "_U_HgILGakqt"
      }
    },
    {
      "cell_type": "markdown",
      "source": [
        "Cambio il tipo da stringa a numerico e inverto la classificazione dello stipendio"
      ],
      "metadata": {
        "id": "BgH0Cr-3O5DW"
      }
    },
    {
      "cell_type": "code",
      "source": [
        "\n",
        "print(df['Education'].unique())\n",
        "print(df['Gender'].unique())\n",
        "print(df['EverBenched'].unique())\n",
        "print(df['City'].unique())\n",
        "dfv = df.copy()\n",
        "dfv['PaymentTier'].replace([1,2,3], [3,2,1],inplace=True)\n",
        "dfv['Education'].replace(['Bachelors', 'Masters', 'PHD'],[1,2,3],inplace=True)\n",
        "dfv['Gender'].replace(['Male', 'Female'],[0, 1],inplace=True)\n",
        "dfv['EverBenched'].replace(['No', 'Yes'], [0, 1],inplace=True)\n",
        "dfv['City'].replace(['Bangalore','New Delhi', 'Pune'], [1, 2, 3],inplace=True)\n",
        "print(df.head())\n",
        "dfv.head()\n",
        "print(dfv.describe().T)"
      ],
      "metadata": {
        "colab": {
          "base_uri": "https://localhost:8080/"
        },
        "outputId": "48e91cd1-ba6e-403b-989e-e212cbd572fa",
        "id": "4Ucc7-QBamvt"
      },
      "execution_count": 37,
      "outputs": [
        {
          "output_type": "stream",
          "name": "stdout",
          "text": [
            "['Bachelors' 'Masters' 'PHD']\n",
            "['Male' 'Female']\n",
            "['No' 'Yes']\n",
            "['Bangalore' 'Pune' 'New Delhi']\n",
            "   Education  JoiningYear       City  PaymentTier  Age  Gender EverBenched  \\\n",
            "0  Bachelors         2017  Bangalore            3   34    Male          No   \n",
            "1  Bachelors         2013       Pune            1   28  Female          No   \n",
            "2  Bachelors         2014  New Delhi            3   38  Female          No   \n",
            "3    Masters         2016  Bangalore            3   27    Male          No   \n",
            "4    Masters         2017       Pune            3   24    Male         Yes   \n",
            "\n",
            "   ExperienceInCurrentDomain  LeaveOrNot  \n",
            "0                          0           0  \n",
            "1                          3           1  \n",
            "2                          2           0  \n",
            "3                          5           1  \n",
            "4                          2           1  \n",
            "                            count         mean       std     min     25%  \\\n",
            "Education                  4653.0     1.264560  0.521120     1.0     1.0   \n",
            "JoiningYear                4653.0  2015.062970  1.863377  2012.0  2013.0   \n",
            "City                       4653.0     1.793681  0.841979     1.0     1.0   \n",
            "PaymentTier                4653.0     1.301741  0.561435     1.0     1.0   \n",
            "Age                        4653.0    29.393295  4.826087    22.0    26.0   \n",
            "Gender                     4653.0     0.402966  0.490547     0.0     0.0   \n",
            "EverBenched                4653.0     0.102729  0.303638     0.0     0.0   \n",
            "ExperienceInCurrentDomain  4653.0     2.905652  1.558240     0.0     2.0   \n",
            "LeaveOrNot                 4653.0     0.343864  0.475047     0.0     0.0   \n",
            "\n",
            "                              50%     75%     max  \n",
            "Education                     1.0     1.0     3.0  \n",
            "JoiningYear                2015.0  2017.0  2018.0  \n",
            "City                          2.0     3.0     3.0  \n",
            "PaymentTier                   1.0     1.0     3.0  \n",
            "Age                          28.0    32.0    41.0  \n",
            "Gender                        0.0     1.0     1.0  \n",
            "EverBenched                   0.0     0.0     1.0  \n",
            "ExperienceInCurrentDomain     3.0     4.0     7.0  \n",
            "LeaveOrNot                    0.0     1.0     1.0  \n"
          ]
        }
      ]
    },
    {
      "cell_type": "markdown",
      "source": [
        "# Visualizzazione ed analisi dei dati"
      ],
      "metadata": {
        "id": "YUPCc02s8oHk"
      }
    },
    {
      "cell_type": "code",
      "source": [
        "dfv.hist(bins=8, figsize=(10, 10))\n",
        "plt.show()"
      ],
      "metadata": {
        "colab": {
          "base_uri": "https://localhost:8080/",
          "height": 607
        },
        "id": "3BUC7KOyMOna",
        "outputId": "3c60d4c7-0261-494a-ff8e-16282195a1ae"
      },
      "execution_count": 35,
      "outputs": [
        {
          "output_type": "display_data",
          "data": {
            "text/plain": [
              "<Figure size 720x720 with 9 Axes>"
            ],
            "image/png": "[encoded data removed]"
          },
          "metadata": {
            "needs_background": "light"
          }
        }
      ]
    },
    {
      "cell_type": "code",
      "source": [
        "plt.figure(figsize=(12, 12))\n",
        "sns.heatmap(dfv.corr(), annot=True, cbar=False)\n",
        "plt.show()"
      ],
      "metadata": {
        "colab": {
          "base_uri": "https://localhost:8080/",
          "height": 831
        },
        "id": "QF5ukR9KZPT2",
        "outputId": "03313622-2d50-48ee-f90e-678b713f61c5"
      },
      "execution_count": 36,
      "outputs": [
        {
          "output_type": "display_data",
          "data": {
            "text/plain": [
              "<Figure size 864x864 with 1 Axes>"
            ],
            "image/png": "[encoded data removed]"
          },
          "metadata": {
            "needs_background": "light"
          }
        }
      ]
    },
    {
      "cell_type": "markdown",
      "source": [
        "# Sviluppo modello random forest"
      ],
      "metadata": {
        "id": "gVwba8c98r8w"
      }
    },
    {
      "cell_type": "markdown",
      "source": [
        "##Preparazione data set training e test"
      ],
      "metadata": {
        "id": "Ja--ka54c6oa"
      }
    },
    {
      "cell_type": "code",
      "source": [
        "import numpy as np\n",
        "import pandas as pd\n",
        "import matplotlib.pyplot as plt\n",
        "import seaborn as sns\n",
        " \n",
        "from sklearn.model_selection import train_test_split\n",
        "from sklearn.preprocessing import MinMaxScaler\n",
        "from sklearn import metrics\n",
        "from sklearn.svm import SVC\n",
        "from xgboost import XGBClassifier\n",
        "from sklearn.linear_model import LogisticRegression\n",
        " \n",
        "import warnings\n",
        "warnings.filterwarnings('ignore')\n",
        "\n",
        "sns.set_theme(style=\"ticks\")\n",
        "\n",
        "xtrain, xtest, ytrain, ytest = train_test_split(dfv.iloc[:,:-1].values, df_targets.values, test_size=0.3, random_state=1)\n",
        "#xtrain.shape, xtest.shape, xtrain.describe().T, xtest.describe().T"
      ],
      "metadata": {
        "id": "Gkg_MKmcbaJi"
      },
      "execution_count": 75,
      "outputs": []
    },
    {
      "cell_type": "markdown",
      "source": [
        "##Normalizzazione dati"
      ],
      "metadata": {
        "id": "_yTwjGdldBex"
      }
    },
    {
      "cell_type": "code",
      "source": [
        "norm = MinMaxScaler()\n",
        "\n",
        "print(xtrain.iloc[0])\n",
        "xtrain_norm = norm.fit_transform(xtrain)\n",
        "print('\\nxtrain_norm[0]')\n",
        "print(xtrain_norm[0])\n",
        "\n",
        "#print(xtest.iloc[0])\n",
        "xtest_norm = norm.transform(xtest)\n",
        "print('\\nxtest_norm[0]')\n",
        "print(xtest_norm[0])"
      ],
      "metadata": {
        "colab": {
          "base_uri": "https://localhost:8080/"
        },
        "id": "HWljOYXSb3jR",
        "outputId": "fed3997b-aaf2-42f1-d658-158173933b98"
      },
      "execution_count": 67,
      "outputs": [
        {
          "output_type": "stream",
          "name": "stdout",
          "text": [
            "Education                       1\n",
            "JoiningYear                  2017\n",
            "City                            1\n",
            "PaymentTier                     1\n",
            "Age                            25\n",
            "Gender                          1\n",
            "EverBenched                     0\n",
            "ExperienceInCurrentDomain       3\n",
            "LeaveOrNot                      0\n",
            "Name: 83, dtype: int64\n",
            "\n",
            "xtrain_norm[0]\n",
            "[0.         0.83333333 0.         0.         0.15789474 1.\n",
            " 0.         0.42857143 0.        ]\n",
            "\n",
            "xtest_norm[0]\n",
            "[0.         0.83333333 0.5        0.5        0.21052632 0.\n",
            " 0.         0.57142857 0.        ]\n"
          ]
        }
      ]
    },
    {
      "cell_type": "markdown",
      "source": [
        "##Training del modello"
      ],
      "metadata": {
        "id": "BCQE3kKzfjsd"
      }
    },
    {
      "cell_type": "code",
      "source": [
        "from sklearn.model_selection import cross_val_score\n",
        "from sklearn.model_selection import GridSearchCV\n",
        "from sklearn.ensemble import RandomForestClassifier\n",
        "\n",
        "model_rfc=RandomForestClassifier(n_jobs=-1)\n",
        "parameters = {'n_estimators':[50,100,200,300,400],'max_depth':[3,4,5,6]}\n",
        "model_rfc_grid = GridSearchCV(model_rfc, parameters,cv=10,verbose=1,n_jobs=-1).fit(xtrain,ytrain)\n",
        "print(model_rfc_grid.best_params_)\n",
        "\n",
        "print('Random Forest Classifier Cros validation score:',model_rfc_grid.best_score_*100)"
      ],
      "metadata": {
        "colab": {
          "base_uri": "https://localhost:8080/"
        },
        "id": "G1PSjXdHc3_h",
        "outputId": "c4b123a6-0317-4d9d-d781-240bffe7b364"
      },
      "execution_count": 76,
      "outputs": [
        {
          "output_type": "stream",
          "name": "stdout",
          "text": [
            "Fitting 10 folds for each of 20 candidates, totalling 200 fits\n",
            "{'max_depth': 6, 'n_estimators': 100}\n",
            "Random Forest Classifier Cros validation score: 83.94270882491742\n"
          ]
        }
      ]
    },
    {
      "cell_type": "markdown",
      "source": [
        "# Valutazione modello"
      ],
      "metadata": {
        "id": "vpMe8MhF_f-d"
      }
    },
    {
      "cell_type": "markdown",
      "source": [
        "## Confusion matrix"
      ],
      "metadata": {
        "id": "CIj6_wvVnZQu"
      }
    },
    {
      "cell_type": "code",
      "source": [
        "from sklearn import metrics\n",
        "metrics.plot_confusion_matrix(model_rfc_grid, xtest, ytest)\n",
        "plt.show()"
      ],
      "metadata": {
        "colab": {
          "base_uri": "https://localhost:8080/",
          "height": 285
        },
        "id": "hOnJw-7Gh4iC",
        "outputId": "9820cd04-755d-4148-aabb-08cde3802f07"
      },
      "execution_count": 78,
      "outputs": [
        {
          "output_type": "display_data",
          "data": {
            "text/plain": [
              "<Figure size 432x288 with 2 Axes>"
            ],
            "image/png": "[encoded data removed]"
          },
          "metadata": {}
        }
      ]
    },
    {
      "cell_type": "markdown",
      "source": [
        "## Risultati accuratezza"
      ],
      "metadata": {
        "id": "1Q1B6ChxnUI-"
      }
    },
    {
      "cell_type": "code",
      "source": [
        "print(f'{model_rfc_grid} : ')\n",
        "print('\\nTraining Accuracy : ', metrics.f1_score(ytrain, model_rfc_grid.predict(xtrain), average='macro'))\n",
        "print('\\nValidation Accuracy : ', metrics.f1_score(ytest, model_rfc_grid.predict(xtest), average='macro'))\n",
        "print('\\n ** metrics.classification_report ** \\n')\n",
        "print(metrics.classification_report(ytest, model_rfc_grid.predict(xtest)))"
      ],
      "metadata": {
        "colab": {
          "base_uri": "https://localhost:8080/"
        },
        "id": "ya_dEzJShI1O",
        "outputId": "6e43536f-04ef-490a-b560-51170a3b7995"
      },
      "execution_count": 83,
      "outputs": [
        {
          "output_type": "stream",
          "name": "stdout",
          "text": [
            "GridSearchCV(cv=10, estimator=RandomForestClassifier(n_jobs=-1), n_jobs=-1,\n",
            "             param_grid={'max_depth': [3, 4, 5, 6],\n",
            "                         'n_estimators': [50, 100, 200, 300, 400]},\n",
            "             verbose=1) : \n",
            "\n",
            "Training Accuracy :  0.8072445808218393\n",
            "\n",
            "Validation Accuracy :  0.8082473598864337\n",
            "\n",
            " ** metrics.classification_report ** \n",
            "\n",
            "              precision    recall  f1-score   support\n",
            "\n",
            "           0       0.81      0.98      0.89       894\n",
            "           1       0.95      0.59      0.73       502\n",
            "\n",
            "    accuracy                           0.84      1396\n",
            "   macro avg       0.88      0.79      0.81      1396\n",
            "weighted avg       0.86      0.84      0.83      1396\n",
            "\n"
          ]
        }
      ]
    }
  ]
}